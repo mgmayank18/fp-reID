{
 "cells": [
  {
   "cell_type": "code",
   "execution_count": 17,
   "metadata": {},
   "outputs": [],
   "source": [
    "import os\n"
   ]
  },
  {
   "cell_type": "code",
   "execution_count": 33,
   "metadata": {},
   "outputs": [],
   "source": [
    "with open(\"Out_file.txt\") as f:\n",
    "    with open(\"out_file2.txt\", \"w\") as f1:\n",
    "        count = 1\n",
    "        for line in f:\n",
    "            x=line.split(None, 1)[0]\n",
    "            f1.write(\"./ATVS_capacitive_resized/\"+x+\".bmp \")\n",
    "            f1.write(\"./ATVS_capacitive_resized_xyt/\"+x+\".xyt \")\n",
    "            f1.write(str(count)+\"\\n\")\n",
    "            count+=1\n",
    "                "
   ]
  },
  {
   "cell_type": "code",
   "execution_count": 34,
   "metadata": {},
   "outputs": [],
   "source": [
    "!shuf out_file2.txt >out_file3.txt"
   ]
  },
  {
   "cell_type": "code",
   "execution_count": 31,
   "metadata": {},
   "outputs": [],
   "source": [
    "with open(\"out_file2.txt\") as f:\n",
    "    count =1\n",
    "    for line in f:\n",
    "        while count ==1:\n",
    "            [a,b,c]=line.split(\" \")\n",
    "            count+=1"
   ]
  },
  {
   "cell_type": "code",
   "execution_count": 32,
   "metadata": {},
   "outputs": [
    {
     "data": {
      "text/plain": [
       "'1'"
      ]
     },
     "execution_count": 32,
     "metadata": {},
     "output_type": "execute_result"
    }
   ],
   "source": [
    "\n"
   ]
  },
  {
   "cell_type": "code",
   "execution_count": null,
   "metadata": {},
   "outputs": [],
   "source": []
  }
 ],
 "metadata": {
  "kernelspec": {
   "display_name": "Python 3",
   "language": "python",
   "name": "python3"
  },
  "language_info": {
   "codemirror_mode": {
    "name": "ipython",
    "version": 3
   },
   "file_extension": ".py",
   "mimetype": "text/x-python",
   "name": "python",
   "nbconvert_exporter": "python",
   "pygments_lexer": "ipython3",
   "version": "3.6.4"
  }
 },
 "nbformat": 4,
 "nbformat_minor": 2
}
