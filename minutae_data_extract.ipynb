{
 "cells": [
  {
   "cell_type": "code",
   "execution_count": 2,
   "metadata": {
    "collapsed": true
   },
   "outputs": [],
   "source": [
    "DIR = \"./dataset/minutae/\"\n",
    "import pandas as pd\n",
    "import numpy as np"
   ]
  },
  {
   "cell_type": "code",
   "execution_count": 16,
   "metadata": {},
   "outputs": [
    {
     "name": "stdout",
     "output_type": "stream",
     "text": [
      "[[122  34 140   4]\n",
      " [342  54 120  90]\n",
      " [343 121   7  77]\n",
      " [121 435  54  54]\n",
      " [456 424 123  65]\n",
      " [ 35  76  23   7]]\n",
      "(6, 4)\n",
      "[[342  54 120  90]\n",
      " [343 121   7  77]\n",
      " [456 424 123  65]\n",
      " [121 435  54  54]\n",
      " [ 35  76  23   7]\n",
      " [122  34 140   4]]\n",
      "6\n"
     ]
    }
   ],
   "source": [
    "df=pd.read_csv(filename, sep=' ',header=None)\n",
    "df = np.array(df)\n",
    "print(df)\n",
    "print(df.shape)\n",
    "np.sort(df, axis=0)\n",
    "df = df[df[:,3].argsort()[::-1]]\n",
    "print(df)\n",
    "print(df.shape[0])"
   ]
  },
  {
   "cell_type": "code",
   "execution_count": 37,
   "metadata": {
    "collapsed": true
   },
   "outputs": [],
   "source": [
    "def crop_top(df,crop_size):\n",
    "    #this will take top n inputs for df\n",
    "    if df.shape[0]<crop_size:\n",
    "        d_zero = np.zeros((crop_size,df.shape[1]), dtype=int)\n",
    "        d_zero[:df.shape[0], :df.shape[1]]=df\n",
    "        return d_zero\n",
    "    else:\n",
    "        return df[0:crop_size,:]"
   ]
  },
  {
   "cell_type": "code",
   "execution_count": null,
   "metadata": {
    "collapsed": true
   },
   "outputs": [],
   "source": [
    "normalization_factor = np.array([512,512,360,100])\n",
    "df_new = crop_top(df,2)/normalization_factor"
   ]
  }
 ],
 "metadata": {
  "kernelspec": {
   "display_name": "Python 3",
   "language": "python",
   "name": "python3"
  },
  "language_info": {
   "codemirror_mode": {
    "name": "ipython",
    "version": 3
   },
   "file_extension": ".py",
   "mimetype": "text/x-python",
   "name": "python",
   "nbconvert_exporter": "python",
   "pygments_lexer": "ipython3",
   "version": "3.6.8"
  }
 },
 "nbformat": 4,
 "nbformat_minor": 2
}
